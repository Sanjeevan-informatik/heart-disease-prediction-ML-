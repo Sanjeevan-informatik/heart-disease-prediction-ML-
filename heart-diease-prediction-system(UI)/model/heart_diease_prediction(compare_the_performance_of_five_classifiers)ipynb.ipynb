{
  "nbformat": 4,
  "nbformat_minor": 0,
  "metadata": {
    "colab": {
      "name": "heart_diease_prediction(compare the performance of five classifiers)ipynb",
      "provenance": [],
      "toc_visible": true
    },
    "kernelspec": {
      "name": "python3",
      "display_name": "Python 3"
    }
  },
  "cells": [
    {
      "cell_type": "code",
      "metadata": {
        "colab_type": "code",
        "id": "1rA4Zq9_3FI5",
        "colab": {}
      },
      "source": [
        "import numpy as np # linear algebra\n",
        "import pandas as pd # data processing, CSV file I/O (e.g. pd.read_csv)\n",
        "import seaborn as sns\n",
        "import matplotlib.pyplot as plt\n",
        "%matplotlib inline\n",
        "\n",
        "import warnings\n",
        "warnings.filterwarnings(\"ignore\")"
      ],
      "execution_count": 195,
      "outputs": []
    },
    {
      "cell_type": "markdown",
      "metadata": {
        "id": "PIYW6ewBf5U7",
        "colab_type": "text"
      },
      "source": [
        "Download the data from https://archive.ics.uci.edu/ml/datasets/Heart+Disease"
      ]
    },
    {
      "cell_type": "code",
      "metadata": {
        "colab_type": "code",
        "id": "y3pnMNdd7TBC",
        "colab": {
          "base_uri": "https://localhost:8080/",
          "height": 403
        },
        "outputId": "d1e4f896-d787-4696-9290-ca14f22a1d31"
      },
      "source": [
        "df = pd.read_csv(\"heart.csv\")\n",
        "df.info()"
      ],
      "execution_count": 196,
      "outputs": [
        {
          "output_type": "stream",
          "text": [
            "<class 'pandas.core.frame.DataFrame'>\n",
            "RangeIndex: 303 entries, 0 to 302\n",
            "Data columns (total 14 columns):\n",
            " #   Column    Non-Null Count  Dtype  \n",
            "---  ------    --------------  -----  \n",
            " 0   age       303 non-null    int64  \n",
            " 1   sex       303 non-null    int64  \n",
            " 2   cp        303 non-null    int64  \n",
            " 3   trestbps  303 non-null    int64  \n",
            " 4   chol      303 non-null    int64  \n",
            " 5   fbs       303 non-null    int64  \n",
            " 6   restecg   303 non-null    int64  \n",
            " 7   thalach   303 non-null    int64  \n",
            " 8   exang     303 non-null    int64  \n",
            " 9   oldpeak   303 non-null    float64\n",
            " 10  slope     303 non-null    int64  \n",
            " 11  ca        303 non-null    int64  \n",
            " 12  thal      303 non-null    int64  \n",
            " 13  target    303 non-null    int64  \n",
            "dtypes: float64(1), int64(13)\n",
            "memory usage: 33.3 KB\n"
          ],
          "name": "stdout"
        }
      ]
    },
    {
      "cell_type": "markdown",
      "metadata": {
        "id": "Y-60UmYofdNA",
        "colab_type": "text"
      },
      "source": [
        "#Data preprocessing : One Hot Encoding\n",
        "Machines can understand binary better than text and number.  and therefore  I converted the categorical data such as resting electrocardiographic results , the slope of the peak exercise ST segment ,chest pain type to binary format in order for the machine to process them using mathematical equations."
      ]
    },
    {
      "cell_type": "code",
      "metadata": {
        "colab_type": "code",
        "id": "P3arV958AQi8",
        "colab": {
          "base_uri": "https://localhost:8080/",
          "height": 226
        },
        "outputId": "9f697224-fe1a-4bcc-c2bc-7a68933bc0b1"
      },
      "source": [
        "#Preprocessing\n",
        "def onehot(ser, num_classes=None):\n",
        "    \"\"\"\n",
        "    One-hot encode the series.\n",
        "    Example: \n",
        "    >>> onehot([1, 0, 2], 3)\n",
        "    array([[0., 1., 0.],\n",
        "       [1., 0., 0.],\n",
        "       [0., 0., 1.]])\n",
        "    \"\"\"\n",
        "    if num_classes == None:\n",
        "        num_classes = len(np.unique(ser))\n",
        "    return np.identity(num_classes)[ser]\n",
        "\n",
        "new_col_names = []\n",
        "need_encode_col = [\"restecg\", \"thal\", \"slope\", \"cp\"]\n",
        "no_encode_col = [col for col in df.columns if col not in need_encode_col]\n",
        "new_df = df[no_encode_col]\n",
        "for col in need_encode_col:\n",
        "    num_classes = len(df[col].unique())\n",
        "    new_col_names = [f\"{col}_{i}\" for i in range(num_classes)]\n",
        "    encoded = pd.DataFrame(onehot(df[col], num_classes), columns=new_col_names, dtype=int)\n",
        "    new_df = pd.concat([new_df, encoded], axis=1)\n",
        "new_df.head()"
      ],
      "execution_count": 197,
      "outputs": [
        {
          "output_type": "execute_result",
          "data": {
            "text/html": [
              "<div>\n",
              "<style scoped>\n",
              "    .dataframe tbody tr th:only-of-type {\n",
              "        vertical-align: middle;\n",
              "    }\n",
              "\n",
              "    .dataframe tbody tr th {\n",
              "        vertical-align: top;\n",
              "    }\n",
              "\n",
              "    .dataframe thead th {\n",
              "        text-align: right;\n",
              "    }\n",
              "</style>\n",
              "<table border=\"1\" class=\"dataframe\">\n",
              "  <thead>\n",
              "    <tr style=\"text-align: right;\">\n",
              "      <th></th>\n",
              "      <th>age</th>\n",
              "      <th>sex</th>\n",
              "      <th>trestbps</th>\n",
              "      <th>chol</th>\n",
              "      <th>fbs</th>\n",
              "      <th>thalach</th>\n",
              "      <th>exang</th>\n",
              "      <th>oldpeak</th>\n",
              "      <th>ca</th>\n",
              "      <th>target</th>\n",
              "      <th>restecg_0</th>\n",
              "      <th>restecg_1</th>\n",
              "      <th>restecg_2</th>\n",
              "      <th>thal_0</th>\n",
              "      <th>thal_1</th>\n",
              "      <th>thal_2</th>\n",
              "      <th>thal_3</th>\n",
              "      <th>slope_0</th>\n",
              "      <th>slope_1</th>\n",
              "      <th>slope_2</th>\n",
              "      <th>cp_0</th>\n",
              "      <th>cp_1</th>\n",
              "      <th>cp_2</th>\n",
              "      <th>cp_3</th>\n",
              "    </tr>\n",
              "  </thead>\n",
              "  <tbody>\n",
              "    <tr>\n",
              "      <th>0</th>\n",
              "      <td>63</td>\n",
              "      <td>1</td>\n",
              "      <td>145</td>\n",
              "      <td>233</td>\n",
              "      <td>1</td>\n",
              "      <td>150</td>\n",
              "      <td>0</td>\n",
              "      <td>2.3</td>\n",
              "      <td>0</td>\n",
              "      <td>1</td>\n",
              "      <td>1</td>\n",
              "      <td>0</td>\n",
              "      <td>0</td>\n",
              "      <td>0</td>\n",
              "      <td>1</td>\n",
              "      <td>0</td>\n",
              "      <td>0</td>\n",
              "      <td>1</td>\n",
              "      <td>0</td>\n",
              "      <td>0</td>\n",
              "      <td>0</td>\n",
              "      <td>0</td>\n",
              "      <td>0</td>\n",
              "      <td>1</td>\n",
              "    </tr>\n",
              "    <tr>\n",
              "      <th>1</th>\n",
              "      <td>37</td>\n",
              "      <td>1</td>\n",
              "      <td>130</td>\n",
              "      <td>250</td>\n",
              "      <td>0</td>\n",
              "      <td>187</td>\n",
              "      <td>0</td>\n",
              "      <td>3.5</td>\n",
              "      <td>0</td>\n",
              "      <td>1</td>\n",
              "      <td>0</td>\n",
              "      <td>1</td>\n",
              "      <td>0</td>\n",
              "      <td>0</td>\n",
              "      <td>0</td>\n",
              "      <td>1</td>\n",
              "      <td>0</td>\n",
              "      <td>1</td>\n",
              "      <td>0</td>\n",
              "      <td>0</td>\n",
              "      <td>0</td>\n",
              "      <td>0</td>\n",
              "      <td>1</td>\n",
              "      <td>0</td>\n",
              "    </tr>\n",
              "    <tr>\n",
              "      <th>2</th>\n",
              "      <td>41</td>\n",
              "      <td>0</td>\n",
              "      <td>130</td>\n",
              "      <td>204</td>\n",
              "      <td>0</td>\n",
              "      <td>172</td>\n",
              "      <td>0</td>\n",
              "      <td>1.4</td>\n",
              "      <td>0</td>\n",
              "      <td>1</td>\n",
              "      <td>1</td>\n",
              "      <td>0</td>\n",
              "      <td>0</td>\n",
              "      <td>0</td>\n",
              "      <td>0</td>\n",
              "      <td>1</td>\n",
              "      <td>0</td>\n",
              "      <td>0</td>\n",
              "      <td>0</td>\n",
              "      <td>1</td>\n",
              "      <td>0</td>\n",
              "      <td>1</td>\n",
              "      <td>0</td>\n",
              "      <td>0</td>\n",
              "    </tr>\n",
              "    <tr>\n",
              "      <th>3</th>\n",
              "      <td>56</td>\n",
              "      <td>1</td>\n",
              "      <td>120</td>\n",
              "      <td>236</td>\n",
              "      <td>0</td>\n",
              "      <td>178</td>\n",
              "      <td>0</td>\n",
              "      <td>0.8</td>\n",
              "      <td>0</td>\n",
              "      <td>1</td>\n",
              "      <td>0</td>\n",
              "      <td>1</td>\n",
              "      <td>0</td>\n",
              "      <td>0</td>\n",
              "      <td>0</td>\n",
              "      <td>1</td>\n",
              "      <td>0</td>\n",
              "      <td>0</td>\n",
              "      <td>0</td>\n",
              "      <td>1</td>\n",
              "      <td>0</td>\n",
              "      <td>1</td>\n",
              "      <td>0</td>\n",
              "      <td>0</td>\n",
              "    </tr>\n",
              "    <tr>\n",
              "      <th>4</th>\n",
              "      <td>57</td>\n",
              "      <td>0</td>\n",
              "      <td>120</td>\n",
              "      <td>354</td>\n",
              "      <td>0</td>\n",
              "      <td>163</td>\n",
              "      <td>1</td>\n",
              "      <td>0.6</td>\n",
              "      <td>0</td>\n",
              "      <td>1</td>\n",
              "      <td>0</td>\n",
              "      <td>1</td>\n",
              "      <td>0</td>\n",
              "      <td>0</td>\n",
              "      <td>0</td>\n",
              "      <td>1</td>\n",
              "      <td>0</td>\n",
              "      <td>0</td>\n",
              "      <td>0</td>\n",
              "      <td>1</td>\n",
              "      <td>1</td>\n",
              "      <td>0</td>\n",
              "      <td>0</td>\n",
              "      <td>0</td>\n",
              "    </tr>\n",
              "  </tbody>\n",
              "</table>\n",
              "</div>"
            ],
            "text/plain": [
              "   age  sex  trestbps  chol  fbs  ...  slope_2  cp_0  cp_1  cp_2  cp_3\n",
              "0   63    1       145   233    1  ...        0     0     0     0     1\n",
              "1   37    1       130   250    0  ...        0     0     0     1     0\n",
              "2   41    0       130   204    0  ...        1     0     1     0     0\n",
              "3   56    1       120   236    0  ...        1     0     1     0     0\n",
              "4   57    0       120   354    0  ...        1     1     0     0     0\n",
              "\n",
              "[5 rows x 24 columns]"
            ]
          },
          "metadata": {
            "tags": []
          },
          "execution_count": 197
        }
      ]
    },
    {
      "cell_type": "markdown",
      "metadata": {
        "id": "xNOVrJq3gQDK",
        "colab_type": "text"
      },
      "source": [
        "The attributes including age, sex,chest pain type (4 values),resting blood pressure, serum cholestoral , fasting blood sugar ,resting electrocardiographic results ,maximum heart rate achieved, exercise induced angina,oldpeak = ST depression induced by exercise relative to rest,the slope of the peak exercise ST segment, number of major vessels (0-3) colored by flourosopy were used to define train and test the model.\n"
      ]
    },
    {
      "cell_type": "code",
      "metadata": {
        "colab_type": "code",
        "id": "WuDUY3dBArgW",
        "colab": {
          "base_uri": "https://localhost:8080/",
          "height": 55
        },
        "outputId": "91343c9a-cd39-4faf-e5cb-beb92c08f2d0"
      },
      "source": [
        "data_cols = [col for col in new_df.columns if col != \"target\"]\n",
        "\n",
        "print(data_cols)"
      ],
      "execution_count": 198,
      "outputs": [
        {
          "output_type": "stream",
          "text": [
            "['age', 'sex', 'trestbps', 'chol', 'fbs', 'thalach', 'exang', 'oldpeak', 'ca', 'restecg_0', 'restecg_1', 'restecg_2', 'thal_0', 'thal_1', 'thal_2', 'thal_3', 'slope_0', 'slope_1', 'slope_2', 'cp_0', 'cp_1', 'cp_2', 'cp_3']\n"
          ],
          "name": "stdout"
        }
      ]
    },
    {
      "cell_type": "code",
      "metadata": {
        "id": "n_OUatQIU5mn",
        "colab_type": "code",
        "colab": {
          "base_uri": "https://localhost:8080/",
          "height": 35
        },
        "outputId": "291ba130-71df-4925-dce5-7dfbe5a6a48b"
      },
      "source": [
        "\n",
        "X = new_df.drop(['target'],axis='columns')\n",
        "X.head(3)\n",
        "X.shape\n"
      ],
      "execution_count": 199,
      "outputs": [
        {
          "output_type": "execute_result",
          "data": {
            "text/plain": [
              "(303, 23)"
            ]
          },
          "metadata": {
            "tags": []
          },
          "execution_count": 199
        }
      ]
    },
    {
      "cell_type": "code",
      "metadata": {
        "id": "ekcVnoeQWF_S",
        "colab_type": "code",
        "colab": {
          "base_uri": "https://localhost:8080/",
          "height": 109
        },
        "outputId": "b7715dfa-5033-426d-8be7-0c90a0a45090"
      },
      "source": [
        "X.columns"
      ],
      "execution_count": 200,
      "outputs": [
        {
          "output_type": "execute_result",
          "data": {
            "text/plain": [
              "Index(['age', 'sex', 'trestbps', 'chol', 'fbs', 'thalach', 'exang', 'oldpeak',\n",
              "       'ca', 'restecg_0', 'restecg_1', 'restecg_2', 'thal_0', 'thal_1',\n",
              "       'thal_2', 'thal_3', 'slope_0', 'slope_1', 'slope_2', 'cp_0', 'cp_1',\n",
              "       'cp_2', 'cp_3'],\n",
              "      dtype='object')"
            ]
          },
          "metadata": {
            "tags": []
          },
          "execution_count": 200
        }
      ]
    },
    {
      "cell_type": "code",
      "metadata": {
        "colab_type": "code",
        "id": "SlnB1W0IA2ON",
        "colab": {}
      },
      "source": [
        "\n",
        "from sklearn.utils import shuffle\n",
        "from sklearn.model_selection import train_test_split\n",
        "from sklearn.metrics import roc_curve\n",
        "from sklearn.metrics import roc_auc_score\n",
        "from matplotlib import pyplot\n",
        "\n",
        "new_df_shfl = shuffle(new_df, random_state=443)\n",
        "# define X and y\n",
        "X = new_df_shfl[data_cols].values\n",
        "y = new_df_shfl[\"target\"].values\n",
        "# split X and y into training and testing sets\n",
        "X_train, X_test, y_train, y_test = train_test_split(X, y, test_size=0.2, random_state=21)\n",
        "X_train, X_valid, y_train, y_valid = train_test_split(X, y, test_size=0.25, random_state=80)\n"
      ],
      "execution_count": 201,
      "outputs": []
    },
    {
      "cell_type": "markdown",
      "metadata": {
        "id": "ZdvI-2gjA4O6",
        "colab_type": "text"
      },
      "source": [
        "#KNN Algorithm"
      ]
    },
    {
      "cell_type": "code",
      "metadata": {
        "id": "GmGNUQEw3SPC",
        "colab_type": "code",
        "colab": {}
      },
      "source": [
        "# train KNeighborsClassifier model on the training set\n",
        "from sklearn.neighbors import KNeighborsClassifier\n",
        "classifier = KNeighborsClassifier(n_neighbors=5)\n",
        "classifier.fit(X_train, y_train)\n",
        "y_pred_knn = classifier.predict(X_test)\n",
        "\n",
        "# make class predictions for the testing set\n",
        "knn_probs = classifier.predict_proba(X_test)\n",
        "knn_probs = knn_probs[:, 1]\n"
      ],
      "execution_count": 202,
      "outputs": []
    },
    {
      "cell_type": "markdown",
      "metadata": {
        "id": "45bUdG2k2VY4",
        "colab_type": "text"
      },
      "source": [
        "\n",
        "Confusion matrix\n",
        "\n",
        "Table that describes the performance of a classification model\n",
        "Every observation in the testing set is represented in exactly one box\n",
        "It's a 2x2 matrix because there are 2 response classes \n",
        "\n",
        "\n",
        "\n",
        "Basic terminology\n",
        "\n",
        "1.    True Positives (TP): we correctly predicted that they do have heart diease\n",
        "2.      True Negatives (TN): we correctly predicted that they don't have heart diease\n",
        "3.    False Positives (FP): we incorrectly predicted that they do have heart diease(a \"Type I error\")\n",
        "4.    False Negatives (FN): we incorrectly predicted that they don't have heart diease (a \"Type II error\")\n",
        "\n",
        "\n",
        "\n",
        "\n",
        "\n",
        "\n"
      ]
    },
    {
      "cell_type": "code",
      "metadata": {
        "id": "8VDpAiEL8Zs-",
        "colab_type": "code",
        "colab": {
          "base_uri": "https://localhost:8080/",
          "height": 72
        },
        "outputId": "788dc58a-f659-4c31-e244-8d8201b7a052"
      },
      "source": [
        "from sklearn.metrics import classification_report, confusion_matrix, accuracy_score\n",
        "result = confusion_matrix(y_test, y_pred_knn)\n",
        "print(\"Confusion Matrix:\")\n",
        "print(result)\n"
      ],
      "execution_count": 203,
      "outputs": [
        {
          "output_type": "stream",
          "text": [
            "Confusion Matrix:\n",
            "[[12 15]\n",
            " [ 3 31]]\n"
          ],
          "name": "stdout"
        }
      ]
    },
    {
      "cell_type": "markdown",
      "metadata": {
        "id": "I_1LBHpF3K0e",
        "colab_type": "text"
      },
      "source": [
        "\n",
        "\n",
        "Classification Accuracy: Overall, how often is the classifier correct?\n",
        "\n",
        "\n",
        "* Accuracy : number of correctly predicted data points out of all the data points\n",
        "* Precision : quantifies the number of positive class predictions that actually belong to the positive class.\n",
        "* Recall : quantifies the number of positive class predictions made out of all positive examples in the dataset.\n",
        "* F-Measure : provides a single score that balances both the concerns of precision and recall in one number.\n"
      ]
    },
    {
      "cell_type": "markdown",
      "metadata": {
        "id": "sfq85Ov9BQo1",
        "colab_type": "text"
      },
      "source": [
        "#Classification accuracy for KNN"
      ]
    },
    {
      "cell_type": "code",
      "metadata": {
        "id": "j4an_M5o2R-5",
        "colab_type": "code",
        "colab": {
          "base_uri": "https://localhost:8080/",
          "height": 219
        },
        "outputId": "5b8724b1-a663-4001-aad8-68e98f7f4692"
      },
      "source": [
        "result1 = classification_report(y_test, y_pred_knn)\n",
        "print(\"Classification Report:\",)\n",
        "print (result1)\n",
        "result2 = accuracy_score(y_test,y_pred_knn)\n",
        "print(\"Accuracy:\",result2)"
      ],
      "execution_count": 204,
      "outputs": [
        {
          "output_type": "stream",
          "text": [
            "Classification Report:\n",
            "              precision    recall  f1-score   support\n",
            "\n",
            "           0       0.80      0.44      0.57        27\n",
            "           1       0.67      0.91      0.78        34\n",
            "\n",
            "    accuracy                           0.70        61\n",
            "   macro avg       0.74      0.68      0.67        61\n",
            "weighted avg       0.73      0.70      0.68        61\n",
            "\n",
            "Accuracy: 0.7049180327868853\n"
          ],
          "name": "stdout"
        }
      ]
    },
    {
      "cell_type": "markdown",
      "metadata": {
        "id": "pSKyDj8SBUKC",
        "colab_type": "text"
      },
      "source": [
        "#SVM model"
      ]
    },
    {
      "cell_type": "code",
      "metadata": {
        "id": "hAskzDGMwDBI",
        "colab_type": "code",
        "colab": {}
      },
      "source": [
        "#Import svm model\n",
        "from sklearn import svm\n",
        "\n",
        "#Create a svm Classifier\n",
        "clf = svm.SVC(kernel='linear') # Linear Kernel\n",
        "clf = svm.SVC(probability=True)\n",
        "#Train the model using the training sets\n",
        "clf.fit(X_train, y_train)\n",
        "\n",
        "#Predict the response for test dataset\n",
        "y_pred_svm = clf.predict(X_test)\n",
        "\n",
        "svm_probs = clf.predict_proba(X_test)\n",
        "svm_probs = svm_probs[:, 1]\n"
      ],
      "execution_count": 205,
      "outputs": []
    },
    {
      "cell_type": "markdown",
      "metadata": {
        "id": "XMrqRC1fBbmu",
        "colab_type": "text"
      },
      "source": [
        "#Classification accuracy for SVM\n"
      ]
    },
    {
      "cell_type": "code",
      "metadata": {
        "id": "gdKn9DrA8hkx",
        "colab_type": "code",
        "colab": {
          "base_uri": "https://localhost:8080/",
          "height": 274
        },
        "outputId": "9efa4a54-250f-4c9e-c1e0-30f70e768608"
      },
      "source": [
        "from sklearn.metrics import classification_report, confusion_matrix, accuracy_score\n",
        "result = confusion_matrix(y_test, y_pred_svm)\n",
        "print(\"Confusion Matrix:\")\n",
        "print(result)\n",
        "result1 = classification_report(y_test, y_pred_svm)\n",
        "print(\"Classification Report:\",)\n",
        "print (result1)\n",
        "result2 = accuracy_score(y_test,y_pred_svm)\n",
        "print(\"Accuracy:\",result2)"
      ],
      "execution_count": 206,
      "outputs": [
        {
          "output_type": "stream",
          "text": [
            "Confusion Matrix:\n",
            "[[12 15]\n",
            " [ 2 32]]\n",
            "Classification Report:\n",
            "              precision    recall  f1-score   support\n",
            "\n",
            "           0       0.86      0.44      0.59        27\n",
            "           1       0.68      0.94      0.79        34\n",
            "\n",
            "    accuracy                           0.72        61\n",
            "   macro avg       0.77      0.69      0.69        61\n",
            "weighted avg       0.76      0.72      0.70        61\n",
            "\n",
            "Accuracy: 0.7213114754098361\n"
          ],
          "name": "stdout"
        }
      ]
    },
    {
      "cell_type": "markdown",
      "metadata": {
        "id": "Y3EDYk-o37jM",
        "colab_type": "text"
      },
      "source": [
        "ROC Curves and Area Under the Curve (AUC)\n",
        "\n",
        "Question: Wouldn't it be nice if we could see how sensitivity and specificity are affected by various thresholds, without actually changing the threshold?\n",
        "\n",
        "\n",
        "\n",
        "* ROC curve can help you to choose a threshold that balances sensitivity and \n",
        "specificity in a way that makes sense for your particular context\n",
        "\n",
        "* You can't actually see the thresholds used to generate the curve on the ROC curve itself\n",
        "\n"
      ]
    },
    {
      "cell_type": "markdown",
      "metadata": {
        "id": "HfbjQNLSBuCZ",
        "colab_type": "text"
      },
      "source": [
        "#Comparison the performance of knn and svm algorithm by AUC"
      ]
    },
    {
      "cell_type": "code",
      "metadata": {
        "id": "zGlrP0aD3ta7",
        "colab_type": "code",
        "colab": {
          "base_uri": "https://localhost:8080/",
          "height": 316
        },
        "outputId": "64bd5d50-c38e-4480-c452-6bcd076a8bd0"
      },
      "source": [
        "# calculate scores\n",
        "svm_auc = roc_auc_score(y_test, svm_probs)\n",
        "knn_auc = roc_auc_score(y_test, knn_probs)\n",
        "# summarize scores\n",
        "print('Support Vector Machine: ROC AUC=%.3f' % (svm_auc))\n",
        "print('k nearest neighbor: ROC AUC=%.3f' % (knn_auc))\n",
        "# calculate roc curves\n",
        "svm_fpr, svm_tpr, _ = roc_curve(y_test, svm_probs)\n",
        "knn_fpr, knn_tpr, _ = roc_curve(y_test, knn_probs)\n",
        "# plot the roc curve for the model\n",
        "pyplot.plot(svm_fpr, svm_tpr, linestyle='--', label='Support Vector Machine')\n",
        "pyplot.plot(knn_fpr, knn_tpr, marker='.', label='k nearest neighbor')\n",
        "# axis labels\n",
        "pyplot.xlabel('False Positive Rate')\n",
        "pyplot.ylabel('True Positive Rate')\n",
        "# show the legend\n",
        "pyplot.legend()\n",
        "# show the plot\n",
        "pyplot.show()"
      ],
      "execution_count": 207,
      "outputs": [
        {
          "output_type": "stream",
          "text": [
            "Support Vector Machine: ROC AUC=0.763\n",
            "k nearest neighbor: ROC AUC=0.738\n"
          ],
          "name": "stdout"
        },
        {
          "output_type": "display_data",
          "data": {
            "image/png": "[encoded data removed]",
            "text/plain": [
              "<Figure size 432x288 with 1 Axes>"
            ]
          },
          "metadata": {
            "tags": [],
            "needs_background": "light"
          }
        }
      ]
    },
    {
      "cell_type": "markdown",
      "metadata": {
        "id": "uQ9HEwQOCGzO",
        "colab_type": "text"
      },
      "source": [
        "#Naive Bayes model"
      ]
    },
    {
      "cell_type": "code",
      "metadata": {
        "id": "xJknu5eZy6kU",
        "colab_type": "code",
        "colab": {}
      },
      "source": [
        "##Import Gaussian Naive Bayes model\n",
        "from sklearn.naive_bayes import GaussianNB\n",
        "\n",
        "#Create a Gaussian Classifier\n",
        "gnb = GaussianNB()\n",
        "\n",
        "#Train the model using the training sets\n",
        "gnb.fit(X_train, y_train)\n",
        "\n",
        "#Predict the response for test dataset\n",
        "y_pred_nb = gnb.predict(X_test)\n",
        "\n",
        "nb_probs = gnb.predict_proba(X_test)\n",
        "nb_probs = nb_probs[:, 1]"
      ],
      "execution_count": 208,
      "outputs": []
    },
    {
      "cell_type": "markdown",
      "metadata": {
        "id": "YjlCwuFfCNDt",
        "colab_type": "text"
      },
      "source": [
        "#Classification accuracy for Naive Bayes model"
      ]
    },
    {
      "cell_type": "code",
      "metadata": {
        "id": "_rU7RghEA4qO",
        "colab_type": "code",
        "colab": {
          "base_uri": "https://localhost:8080/",
          "height": 274
        },
        "outputId": "f27ec0cf-5648-48d7-ad42-a5888467715d"
      },
      "source": [
        "from sklearn.metrics import classification_report, confusion_matrix, accuracy_score\n",
        "result = confusion_matrix(y_test, y_pred_nb)\n",
        "print(\"Confusion Matrix:\")\n",
        "print(result)\n",
        "result1 = classification_report(y_test, y_pred_nb)\n",
        "print(\"Classification Report:\",)\n",
        "print (result1)\n",
        "result2 = accuracy_score(y_test,y_pred_nb)\n",
        "print(\"Accuracy:\",result2)"
      ],
      "execution_count": 209,
      "outputs": [
        {
          "output_type": "stream",
          "text": [
            "Confusion Matrix:\n",
            "[[24  3]\n",
            " [ 9 25]]\n",
            "Classification Report:\n",
            "              precision    recall  f1-score   support\n",
            "\n",
            "           0       0.73      0.89      0.80        27\n",
            "           1       0.89      0.74      0.81        34\n",
            "\n",
            "    accuracy                           0.80        61\n",
            "   macro avg       0.81      0.81      0.80        61\n",
            "weighted avg       0.82      0.80      0.80        61\n",
            "\n",
            "Accuracy: 0.8032786885245902\n"
          ],
          "name": "stdout"
        }
      ]
    },
    {
      "cell_type": "markdown",
      "metadata": {
        "id": "QpYgOdKnCkc3",
        "colab_type": "text"
      },
      "source": [
        "#Comparison the performance of Gaussian Naive Bayes and svm algorithm by AUC"
      ]
    },
    {
      "cell_type": "code",
      "metadata": {
        "id": "WB81UbkM42VS",
        "colab_type": "code",
        "colab": {
          "base_uri": "https://localhost:8080/",
          "height": 316
        },
        "outputId": "7c1bea6e-ffc9-4771-f6b4-26179fa3c542"
      },
      "source": [
        "# calculate scores\n",
        "nb_auc = roc_auc_score(y_test, nb_probs)\n",
        "svm_fpr, svm_tpr, _ = roc_curve(y_test, svm_probs)\n",
        "# summarize scores\n",
        "print('Gaussian Naive Bayes model: ROC AUC=%.3f' % (nb_auc))\n",
        "print('Support Vector Machine: ROC AUC=%.3f' % (svm_auc))\n",
        "# calculate roc curves\n",
        "nb_fpr, nb_tpr, _ = roc_curve(y_test, nb_probs)\n",
        "svm_fpr, svm_tpr, _ = roc_curve(y_test, svm_probs)\n",
        "# plot the roc curve for the model\n",
        "pyplot.plot(nb_fpr, nb_tpr, linestyle='--', label='Gaussian Naive Bayes model')\n",
        "pyplot.plot(svm_fpr, svm_tpr, linestyle='--', label='Support Vector Machine')\n",
        "# axis labels\n",
        "pyplot.xlabel('False Positive Rate')\n",
        "pyplot.ylabel('True Positive Rate')\n",
        "# show the legend\n",
        "pyplot.legend()\n",
        "# show the plot\n",
        "pyplot.show()"
      ],
      "execution_count": 210,
      "outputs": [
        {
          "output_type": "stream",
          "text": [
            "Gaussian Naive Bayes model: ROC AUC=0.861\n",
            "Support Vector Machine: ROC AUC=0.763\n"
          ],
          "name": "stdout"
        },
        {
          "output_type": "display_data",
          "data": {
            "image/png": "[encoded data removed]",
            "text/plain": [
              "<Figure size 432x288 with 1 Axes>"
            ]
          },
          "metadata": {
            "tags": [],
            "needs_background": "light"
          }
        }
      ]
    },
    {
      "cell_type": "markdown",
      "metadata": {
        "id": "590JaslUCXJA",
        "colab_type": "text"
      },
      "source": [
        "# Random Forest Algorithm\n"
      ]
    },
    {
      "cell_type": "code",
      "metadata": {
        "id": "jnV995N9xjP4",
        "colab_type": "code",
        "colab": {}
      },
      "source": [
        "from sklearn.ensemble import RandomForestClassifier\n",
        "classifier = RandomForestClassifier(n_estimators = 50)\n",
        "classifier.fit(X_train, y_train)\n",
        "y_pred_rf = classifier.predict(X_test)\n",
        "\n",
        "\n",
        "rf_probs = classifier.predict_proba(X_test)\n",
        "rf_probs = rf_probs[:, 1]\n",
        "\n"
      ],
      "execution_count": 211,
      "outputs": []
    },
    {
      "cell_type": "markdown",
      "metadata": {
        "id": "ZGvIJyIiCYwC",
        "colab_type": "text"
      },
      "source": [
        "#Classification accuracy for Random Forest Algorithm"
      ]
    },
    {
      "cell_type": "code",
      "metadata": {
        "id": "pEUCHVkCAqGS",
        "colab_type": "code",
        "colab": {
          "base_uri": "https://localhost:8080/",
          "height": 274
        },
        "outputId": "e9cb4805-94be-438d-e37a-c9e984d705dd"
      },
      "source": [
        "from sklearn.metrics import classification_report, confusion_matrix, accuracy_score\n",
        "result = confusion_matrix(y_test, y_pred_rf)\n",
        "print(\"Confusion Matrix:\")\n",
        "print(result)\n",
        "result1 = classification_report(y_test, y_pred_rf)\n",
        "print(\"Classification Report:\",)\n",
        "print (result1)\n",
        "result2 = accuracy_score(y_test,y_pred_rf)\n",
        "print(\"Accuracy:\",result2)"
      ],
      "execution_count": 212,
      "outputs": [
        {
          "output_type": "stream",
          "text": [
            "Confusion Matrix:\n",
            "[[23  4]\n",
            " [ 0 34]]\n",
            "Classification Report:\n",
            "              precision    recall  f1-score   support\n",
            "\n",
            "           0       1.00      0.85      0.92        27\n",
            "           1       0.89      1.00      0.94        34\n",
            "\n",
            "    accuracy                           0.93        61\n",
            "   macro avg       0.95      0.93      0.93        61\n",
            "weighted avg       0.94      0.93      0.93        61\n",
            "\n",
            "Accuracy: 0.9344262295081968\n"
          ],
          "name": "stdout"
        }
      ]
    },
    {
      "cell_type": "markdown",
      "metadata": {
        "id": "7A_oU8hRCsGN",
        "colab_type": "text"
      },
      "source": [
        "#Comparison the performance of Gaussian Naive Bayes and random forest algorithm by AUC"
      ]
    },
    {
      "cell_type": "code",
      "metadata": {
        "id": "-B6i3X9L3tY9",
        "colab_type": "code",
        "colab": {
          "base_uri": "https://localhost:8080/",
          "height": 316
        },
        "outputId": "aef633a9-2a68-4f23-ef39-3c239fba8734"
      },
      "source": [
        "# calculate scores\n",
        "svm_auc = roc_auc_score(y_test, svm_probs)\n",
        "rf_auc = roc_auc_score(y_test, rf_probs)\n",
        "# summarize scores\n",
        "print('Gaussian Naive Bayes model: ROC AUC=%.3f' % (nb_auc))\n",
        "print('Random Forest: ROC AUC=%.3f' % (rf_auc))\n",
        "# calculate roc curves\n",
        "nb_auc = roc_auc_score(y_test, nb_probs)\n",
        "rf_fpr, rf_tpr, _ = roc_curve(y_test, rf_probs)\n",
        "# plot the roc curve for the model\n",
        "pyplot.plot(nb_fpr, nb_tpr, linestyle='--', label='Gaussian Naive Bayes model')\n",
        "pyplot.plot(rf_fpr, rf_tpr, marker='.', label='Random Forest')\n",
        "# axis labels\n",
        "pyplot.xlabel('False Positive Rate')\n",
        "pyplot.ylabel('True Positive Rate')\n",
        "# show the legend\n",
        "pyplot.legend()\n",
        "# show the plot\n",
        "pyplot.show()\n"
      ],
      "execution_count": 213,
      "outputs": [
        {
          "output_type": "stream",
          "text": [
            "Gaussian Naive Bayes model: ROC AUC=0.861\n",
            "Random Forest: ROC AUC=0.982\n"
          ],
          "name": "stdout"
        },
        {
          "output_type": "display_data",
          "data": {
            "image/png": "[encoded data removed]",
            "text/plain": [
              "<Figure size 432x288 with 1 Axes>"
            ]
          },
          "metadata": {
            "tags": [],
            "needs_background": "light"
          }
        }
      ]
    },
    {
      "cell_type": "markdown",
      "metadata": {
        "id": "9H82tegrDJpI",
        "colab_type": "text"
      },
      "source": [
        "#Neural network"
      ]
    },
    {
      "cell_type": "code",
      "metadata": {
        "id": "64bfXiPu1YyX",
        "colab_type": "code",
        "colab": {}
      },
      "source": [
        "from sklearn.neural_network import MLPClassifier\n",
        "\n",
        "nn = MLPClassifier(solver='lbfgs', alpha=1e-5,hidden_layer_sizes=(12, 6), random_state=1)\n",
        "\n",
        "nn.fit(X_train, y_train)\n",
        "\n",
        "y_pred_nn = nn.predict(X_test)\n",
        "\n",
        "nn_probs = nn.predict_proba(X_test)\n",
        "nn_probs = nn_probs[:, 1]"
      ],
      "execution_count": 214,
      "outputs": []
    },
    {
      "cell_type": "markdown",
      "metadata": {
        "id": "ksKYLgxiDQqG",
        "colab_type": "text"
      },
      "source": [
        "#Classification accuracy for Neural network"
      ]
    },
    {
      "cell_type": "code",
      "metadata": {
        "id": "ugV7yL1vBLTn",
        "colab_type": "code",
        "colab": {
          "base_uri": "https://localhost:8080/",
          "height": 274
        },
        "outputId": "890280eb-a5f6-4633-f128-954b03f79146"
      },
      "source": [
        "from sklearn.metrics import classification_report, confusion_matrix, accuracy_score\n",
        "result = confusion_matrix(y_test, y_pred_nn)\n",
        "print(\"Confusion Matrix:\")\n",
        "print(result)\n",
        "result1 = classification_report(y_test, y_pred_nn)\n",
        "print(\"Classification Report:\",)\n",
        "print (result1)\n",
        "result2 = accuracy_score(y_test,y_pred_nn)\n",
        "print(\"Accuracy:\",result2)"
      ],
      "execution_count": 215,
      "outputs": [
        {
          "output_type": "stream",
          "text": [
            "Confusion Matrix:\n",
            "[[22  5]\n",
            " [ 4 30]]\n",
            "Classification Report:\n",
            "              precision    recall  f1-score   support\n",
            "\n",
            "           0       0.85      0.81      0.83        27\n",
            "           1       0.86      0.88      0.87        34\n",
            "\n",
            "    accuracy                           0.85        61\n",
            "   macro avg       0.85      0.85      0.85        61\n",
            "weighted avg       0.85      0.85      0.85        61\n",
            "\n",
            "Accuracy: 0.8524590163934426\n"
          ],
          "name": "stdout"
        }
      ]
    },
    {
      "cell_type": "markdown",
      "metadata": {
        "id": "AEA-TiuZDV6g",
        "colab_type": "text"
      },
      "source": [
        "#Comparison the performance of neutral network and random forest algorithm by AUC"
      ]
    },
    {
      "cell_type": "code",
      "metadata": {
        "id": "m3sUiSLa6QNx",
        "colab_type": "code",
        "colab": {
          "base_uri": "https://localhost:8080/",
          "height": 316
        },
        "outputId": "983ea6a6-9694-4a48-ac11-aa25db02cb78"
      },
      "source": [
        "# calculate scores\n",
        "nn_auc = roc_auc_score(y_test, nn_probs)\n",
        "rf_auc = roc_auc_score(y_test, rf_probs)\n",
        "# summarize scores\n",
        "print('neural network : ROC AUC=%.3f' % (nn_auc))\n",
        "print('Random Forest: ROC AUC=%.3f' % (rf_auc))\n",
        "# calculate roc curves\n",
        "nn_fpr, nn_tpr, _ = roc_curve(y_test, nn_probs)\n",
        "rf_fpr, rf_tpr, _ = roc_curve(y_test, rf_probs)\n",
        "# plot the roc curve for the model\n",
        "pyplot.plot(nn_fpr, nn_tpr, linestyle='--', label='neural network')\n",
        "pyplot.plot(rf_fpr, rf_tpr, marker='.', label='Random Forest')\n",
        "# axis labels\n",
        "pyplot.xlabel('False Positive Rate')\n",
        "pyplot.ylabel('True Positive Rate')\n",
        "# show the legend\n",
        "pyplot.legend()\n",
        "# show the plot\n",
        "pyplot.show()"
      ],
      "execution_count": 216,
      "outputs": [
        {
          "output_type": "stream",
          "text": [
            "neural network : ROC AUC=0.931\n",
            "Random Forest: ROC AUC=0.982\n"
          ],
          "name": "stdout"
        },
        {
          "output_type": "display_data",
          "data": {
            "image/png": "[encoded data removed]",
            "text/plain": [
              "<Figure size 432x288 with 1 Axes>"
            ]
          },
          "metadata": {
            "tags": [],
            "needs_background": "light"
          }
        }
      ]
    },
    {
      "cell_type": "markdown",
      "metadata": {
        "id": "PxYHFHFvFpaG",
        "colab_type": "text"
      },
      "source": [
        "#compare the performance of five classifiers by AUC"
      ]
    },
    {
      "cell_type": "code",
      "metadata": {
        "id": "edAmYMeLD8Ra",
        "colab_type": "code",
        "colab": {
          "base_uri": "https://localhost:8080/",
          "height": 371
        },
        "outputId": "4ef38963-df89-4b23-f8a0-1fe2cee9838c"
      },
      "source": [
        "# calculate scores\n",
        "nn_auc = roc_auc_score(y_test, nn_probs)\n",
        "rf_auc = roc_auc_score(y_test, rf_probs)\n",
        "svm_auc = roc_auc_score(y_test, svm_probs)\n",
        "knn_auc = roc_auc_score(y_test, knn_probs)\n",
        "nb_auc = roc_auc_score(y_test, nb_probs)\n",
        "\n",
        "print('Support Vector Machine: ROC AUC=%.3f' % (svm_auc))\n",
        "print('k nearest neighbor: ROC AUC=%.3f' % (knn_auc))\n",
        "print('neural network : ROC AUC=%.3f' % (nn_auc))\n",
        "print('Random Forest: ROC AUC=%.3f' % (rf_auc))\n",
        "print('Gaussian Naive Bayes model: ROC AUC=%.3f' % (nb_auc))\n",
        "# calculate roc curves\n",
        "\n",
        "# plot the roc curve for the model\n",
        "pyplot.plot(nn_fpr, nn_tpr, linestyle='--', label='neural network')\n",
        "pyplot.plot(rf_fpr, rf_tpr, marker='.', label='Random Forest')\n",
        "pyplot.plot(svm_fpr, svm_tpr, linestyle='--', label='Support Vector Machine')\n",
        "pyplot.plot(knn_fpr, knn_tpr, marker='.', label='k nearest neighbor')\n",
        "pyplot.plot(nb_fpr, nb_tpr, linestyle='--', label='Gaussian Naive Bayes model')\n",
        "# axis labels\n",
        "pyplot.xlabel('False Positive Rate')\n",
        "pyplot.ylabel('True Positive Rate')\n",
        "# show the legend\n",
        "pyplot.legend()\n",
        "# show the plot\n",
        "pyplot.show()"
      ],
      "execution_count": 217,
      "outputs": [
        {
          "output_type": "stream",
          "text": [
            "Support Vector Machine: ROC AUC=0.763\n",
            "k nearest neighbor: ROC AUC=0.738\n",
            "neural network : ROC AUC=0.931\n",
            "Random Forest: ROC AUC=0.982\n",
            "Gaussian Naive Bayes model: ROC AUC=0.861\n"
          ],
          "name": "stdout"
        },
        {
          "output_type": "display_data",
          "data": {
            "image/png": "[encoded data removed]",
            "text/plain": [
              "<Figure size 432x288 with 1 Axes>"
            ]
          },
          "metadata": {
            "tags": [],
            "needs_background": "light"
          }
        }
      ]
    },
    {
      "cell_type": "code",
      "metadata": {
        "id": "0Vfq38DbV-6w",
        "colab_type": "code",
        "colab": {}
      },
      "source": [
        ""
      ],
      "execution_count": 217,
      "outputs": []
    },
    {
      "cell_type": "code",
      "metadata": {
        "id": "8kV9VA9lLC9K",
        "colab_type": "code",
        "colab": {}
      },
      "source": [
        "def predict_heart_diease(age, sex, trestbps, chol, fbs, thalach, exang, oldpeak, ca, restecg, thal, slope, cp,):    \n",
        "    \n",
        "    X = new_df.drop(['target'],axis='columns')\n",
        "    X.shape\n",
        "    restecg_index = np.where(X.columns==restecg)[0][0]\n",
        "    loc_thal = np.where(X.columns==thal)[0][0]\n",
        "    loc_slope = np.where(X.columns==slope)[0][0]\n",
        "    loc_cp = np.where(X.columns==cp)[0][0]\n",
        "\n",
        "    x = np.zeros(len(X.columns))\n",
        "    x[0] = age\n",
        "    x[1] = sex\n",
        "    x[2] = trestbps\n",
        "    x[3] = chol\n",
        "    x[4] = fbs\n",
        "    x[5] = thalach\n",
        "    x[6] = exang\n",
        "    x[7] = oldpeak\n",
        "    x[8] = ca\n",
        "\n",
        "    if restecg_index >= 0:\n",
        "        x[restecg_index] = 1\n",
        "    \n",
        "    if loc_thal >= 0:\n",
        "        x[loc_thal] = 1\n",
        "    \n",
        "    if loc_slope >= 0:\n",
        "        x[loc_slope] = 1\n",
        "    \n",
        "    if loc_cp >= 0:\n",
        "        x[loc_cp] = 1\n",
        "\n",
        "    return nn.predict([x])[0]"
      ],
      "execution_count": 218,
      "outputs": []
    },
    {
      "cell_type": "code",
      "metadata": {
        "id": "SO158dkQSbu4",
        "colab_type": "code",
        "colab": {
          "base_uri": "https://localhost:8080/",
          "height": 35
        },
        "outputId": "0e748322-d168-46e8-aca6-9a1000d5492d"
      },
      "source": [
        "predict_heart_diease(63 ,\t1 ,\t145 ,\t233, \t1, \t150 ,\t0, \t2.3 ,\t0, \"restecg_0\",\"thal_1\",\"slope_0\",\"cp_3\"\t)"
      ],
      "execution_count": 219,
      "outputs": [
        {
          "output_type": "execute_result",
          "data": {
            "text/plain": [
              "1"
            ]
          },
          "metadata": {
            "tags": []
          },
          "execution_count": 219
        }
      ]
    },
    {
      "cell_type": "markdown",
      "metadata": {
        "id": "NEzz7hrnWxeZ",
        "colab_type": "text"
      },
      "source": [
        "#Export the tested model to a pickle file\n"
      ]
    },
    {
      "cell_type": "code",
      "metadata": {
        "id": "DEIdibolXAMi",
        "colab_type": "code",
        "colab": {}
      },
      "source": [
        "import pickle\n",
        "with open('heart_diease_prediction_model.pickle','wb') as f:\n",
        "    pickle.dump(nn,f)"
      ],
      "execution_count": 220,
      "outputs": []
    },
    {
      "cell_type": "markdown",
      "metadata": {
        "id": "1wWeAmsDXVU1",
        "colab_type": "text"
      },
      "source": [
        "#Export column information to a file that will be useful later on in our prediction application\n"
      ]
    },
    {
      "cell_type": "code",
      "metadata": {
        "id": "f_mUipeFXO2u",
        "colab_type": "code",
        "colab": {}
      },
      "source": [
        "X = new_df.drop(['target'],axis='columns')\n",
        "X.shape\n",
        "import json\n",
        "columns = {\n",
        "    'data_columns' : [col.lower() for col in X.columns]\n",
        "}\n",
        "with open(\"columns.json\",\"w\") as f:\n",
        "    f.write(json.dumps(columns))\n",
        "\n"
      ],
      "execution_count": 221,
      "outputs": []
    }
  ]
}